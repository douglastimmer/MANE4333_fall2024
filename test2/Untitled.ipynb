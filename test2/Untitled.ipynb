{
 "cells": [
  {
   "cell_type": "code",
   "execution_count": 2,
   "id": "8537d6b0-2ddd-4e92-be5a-7751fc181cd0",
   "metadata": {},
   "outputs": [
    {
     "name": "stdout",
     "output_type": "stream",
     "text": [
      "f(2)=-1.727892280477045\n",
      "f(3)=-0.4233600241796016\n",
      "stopping inside for loop at iteration 10\n",
      "the root is 2.99951171875 with f(2.99951171875)=-0.4243218767247219\n"
     ]
    }
   ],
   "source": [
    "from scipy import stats\n",
    "import math\n",
    "def f(x):\n",
    "    return 3-x-3*math.sin(x)\n",
    "# initialize code\n",
    "a=2\n",
    "b=3\n",
    "tol=0.0005\n",
    "N=100\n",
    "err=math.fabs(b-a)\n",
    "L=f(a)\n",
    "print(\"f({})={}\".format(a,f(a)))\n",
    "print(\"f({})={}\".format(b,f(b)))\n",
    "for i in range(0,N+1):\n",
    "    m=(a+b)/2.0\n",
    "    M=f(m)\n",
    "    err=err/2.0\n",
    "    if (M==0) or (err<tol):\n",
    "        print(\"stopping inside for loop at iteration {}\".format(i))\n",
    "        break\n",
    "    if (L*M<0):\n",
    "        b=m\n",
    "    else:\n",
    "        a=m\n",
    "        L=M\n",
    "print(\"the root is {} with f({})={}\".format(m,m,M))    "
   ]
  },
  {
   "cell_type": "code",
   "execution_count": null,
   "id": "84ef8ad5-7d70-4376-baed-ef59869011d6",
   "metadata": {},
   "outputs": [],
   "source": []
  }
 ],
 "metadata": {
  "kernelspec": {
   "display_name": "Python 3 (ipykernel)",
   "language": "python",
   "name": "python3"
  },
  "language_info": {
   "codemirror_mode": {
    "name": "ipython",
    "version": 3
   },
   "file_extension": ".py",
   "mimetype": "text/x-python",
   "name": "python",
   "nbconvert_exporter": "python",
   "pygments_lexer": "ipython3",
   "version": "3.12.5"
  }
 },
 "nbformat": 4,
 "nbformat_minor": 5
}
