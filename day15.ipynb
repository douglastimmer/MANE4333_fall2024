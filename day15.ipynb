{
 "cells": [
  {
   "cell_type": "code",
   "execution_count": 10,
   "id": "861a774f-724a-419d-a246-f69e86fa308a",
   "metadata": {},
   "outputs": [
    {
     "name": "stdin",
     "output_type": "stream",
     "text": [
      "Enter the lower limit of the integral:  -5\n",
      "Enter the upper limit of the integral:  0\n",
      "enter the number of interations (n):  10\n"
     ]
    },
    {
     "name": "stdout",
     "output_type": "stream",
     "text": [
      "[[0.99735942 0.         0.         0.         0.         0.\n",
      "  0.         0.         0.         0.         0.        ]\n",
      " [0.54250046 0.39088081 0.         0.         0.         0.\n",
      "  0.         0.         0.         0.         0.        ]\n",
      " [0.50000233 0.48583629 0.49216665 0.         0.         0.\n",
      "  0.         0.         0.         0.         0.        ]\n",
      " [0.4999995  0.49999856 0.50094271 0.50108201 0.         0.\n",
      "  0.         0.         0.         0.         0.        ]\n",
      " [0.49999965 0.49999971 0.49999978 0.49998482 0.49998051 0.\n",
      "  0.         0.         0.         0.         0.        ]\n",
      " [0.4999997  0.49999971 0.49999971 0.49999971 0.49999977 0.49999979\n",
      "  0.         0.         0.         0.         0.        ]\n",
      " [0.49999971 0.49999971 0.49999971 0.49999971 0.49999971 0.49999971\n",
      "  0.49999971 0.         0.         0.         0.        ]\n",
      " [0.49999971 0.49999971 0.49999971 0.49999971 0.49999971 0.49999971\n",
      "  0.49999971 0.49999971 0.         0.         0.        ]\n",
      " [0.49999971 0.49999971 0.49999971 0.49999971 0.49999971 0.49999971\n",
      "  0.49999971 0.49999971 0.49999971 0.         0.        ]\n",
      " [0.49999971 0.49999971 0.49999971 0.49999971 0.49999971 0.49999971\n",
      "  0.49999971 0.49999971 0.49999971 0.49999971 0.        ]\n",
      " [0.49999971 0.49999971 0.49999971 0.49999971 0.49999971 0.49999971\n",
      "  0.49999971 0.49999971 0.49999971 0.49999971 0.49999971]]\n"
     ]
    }
   ],
   "source": [
    "import math\n",
    "import numpy as np\n",
    "def f(z):\n",
    "    return (math.exp(-0.5*z**2)/((2.0*math.pi)**0.5))\n",
    "#\n",
    "a=float(input(\"Enter the lower limit of the integral: \"))\n",
    "b=float(input(\"Enter the upper limit of the integral: \"))\n",
    "n=int(input(\"enter the number of interations (n): \"))\n",
    "#\n",
    "# initialize matrix r\n",
    "r=np.zeros(shape=(n+1,n+1))\n",
    "h=b-a\n",
    "#find R(0,0)\n",
    "r[0][0]=(h/2.0)*(f(a)+f(b))\n",
    "for i in range(1,n+1):\n",
    "    h=h/2.0\n",
    "    sum=0.0\n",
    "    for k in range(1,2**i,2):\n",
    "        sum=sum+f(a+k*h)\n",
    "    r[i][0]=0.5*r[i-1][0]+sum*h\n",
    "    for j in range(1,i+1):\n",
    "        r[i][j]=r[i][j-1]+(r[i][j-1]-r[i-1][j-1])/(4**j-1)\n",
    "print(r)\n"
   ]
  },
  {
   "cell_type": "code",
   "execution_count": 8,
   "id": "21648c82-210e-4b42-83b4-45cc8c6a80b5",
   "metadata": {},
   "outputs": [
    {
     "name": "stdin",
     "output_type": "stream",
     "text": [
      "Enter x:  -2.5\n"
     ]
    },
    {
     "name": "stdout",
     "output_type": "stream",
     "text": [
      "0.01752830049356854\n"
     ]
    }
   ],
   "source": [
    "import math\n",
    "import numpy as np\n",
    "def f(z):\n",
    "    return (math.exp(-0.5*z**2)/((2.0*math.pi)**0.5))\n",
    "a=float(input(\"Enter x: \"))\n",
    "y=f(a)\n",
    "print(y)\n"
   ]
  },
  {
   "cell_type": "code",
   "execution_count": null,
   "id": "15700ab3-b56d-465e-a7db-44f213e4d55c",
   "metadata": {},
   "outputs": [],
   "source": []
  },
  {
   "cell_type": "code",
   "execution_count": null,
   "id": "0d739b1c-205d-41ce-be0f-61ef1560874a",
   "metadata": {},
   "outputs": [],
   "source": []
  }
 ],
 "metadata": {
  "kernelspec": {
   "display_name": "Python 3 (ipykernel)",
   "language": "python",
   "name": "python3"
  },
  "language_info": {
   "codemirror_mode": {
    "name": "ipython",
    "version": 3
   },
   "file_extension": ".py",
   "mimetype": "text/x-python",
   "name": "python",
   "nbconvert_exporter": "python",
   "pygments_lexer": "ipython3",
   "version": "3.12.5"
  }
 },
 "nbformat": 4,
 "nbformat_minor": 5
}
