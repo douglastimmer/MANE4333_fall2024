{
 "cells": [
  {
   "cell_type": "markdown",
   "metadata": {
    "slideshow": {
     "slide_type": "slide"
    }
   },
   "source": [
    "# Week Six\n",
    "\n",
    "## Multiple Regression Analysis"
   ]
  },
  {
   "cell_type": "code",
   "execution_count": 3,
   "metadata": {
    "slideshow": {
     "slide_type": "slide"
    }
   },
   "outputs": [
    {
     "data": {
      "text/html": [
       "<h1>Top Heading in Output window</h1>"
      ],
      "text/plain": [
       "<IPython.core.display.HTML object>"
      ]
     },
     "metadata": {},
     "output_type": "display_data"
    },
    {
     "data": {
      "text/html": [
       "<p>Any valid HTML code contained withing the quotes&nbsp;</p>"
      ],
      "text/plain": [
       "<IPython.core.display.HTML object>"
      ]
     },
     "metadata": {},
     "output_type": "display_data"
    },
    {
     "data": {
      "text/html": [
       "<p>I have used mainly for adding headers to output windows&nbsp:</p>"
      ],
      "text/plain": [
       "<IPython.core.display.HTML object>"
      ]
     },
     "metadata": {},
     "output_type": "display_data"
    }
   ],
   "source": [
    "# Cell 2\n",
    "from IPython.display import display, HTML, Latex\n",
    "#\n",
    "display(HTML(\"<h1>Top Heading in Output window</h1>\"))\n",
    "display(HTML(\"<p>Any valid HTML code contained withing the quotes&nbsp;</p>\"))\n",
    "display(HTML(\"<p>I have used mainly for adding headers to output windows&nbsp:</p>\"))"
   ]
  },
  {
   "cell_type": "code",
   "execution_count": 4,
   "metadata": {
    "slideshow": {
     "slide_type": "slide"
    }
   },
   "outputs": [
    {
     "data": {
      "text/latex": [
       "$F(z)=\\int_{-\\infty}^zf(x)=\\int_{-\\infty}^z\\frac{1}{\\sqrt{2\\pi}}\\left(\\frac{-x}{2}\\right)^2\\,dx=\\Phi(z)$"
      ],
      "text/plain": [
       "<IPython.core.display.Latex object>"
      ]
     },
     "metadata": {},
     "output_type": "display_data"
    }
   ],
   "source": [
    "# Cell 3\n",
    "from IPython.display import display, HTML, Latex\n",
    "#\n",
    "display(Latex(r\"\"\"$F(z)=\\int_{-\\infty}^zf(x)=\\int_{-\\infty}^z\\frac{1}{\\sqrt{2\\pi}}\\left(\\frac{-x}{2}\\right)^2\\,dx=\\Phi(z)$\"\"\"))"
   ]
  },
  {
   "cell_type": "code",
   "execution_count": 5,
   "metadata": {
    "scrolled": true,
    "slideshow": {
     "slide_type": "slide"
    }
   },
   "outputs": [
    {
     "data": {
      "text/html": [
       "<h2>Concrete Data set</h2>"
      ],
      "text/plain": [
       "<IPython.core.display.HTML object>"
      ]
     },
     "metadata": {},
     "output_type": "display_data"
    },
    {
     "data": {
      "text/html": [
       "<h3>Descriptive Statistics</h3>"
      ],
      "text/plain": [
       "<IPython.core.display.HTML object>"
      ]
     },
     "metadata": {},
     "output_type": "display_data"
    },
    {
     "data": {
      "text/html": [
       "<div>\n",
       "<style scoped>\n",
       "    .dataframe tbody tr th:only-of-type {\n",
       "        vertical-align: middle;\n",
       "    }\n",
       "\n",
       "    .dataframe tbody tr th {\n",
       "        vertical-align: top;\n",
       "    }\n",
       "\n",
       "    .dataframe thead th {\n",
       "        text-align: right;\n",
       "    }\n",
       "</style>\n",
       "<table border=\"1\" class=\"dataframe\">\n",
       "  <thead>\n",
       "    <tr style=\"text-align: right;\">\n",
       "      <th></th>\n",
       "      <th>cement</th>\n",
       "      <th>slag</th>\n",
       "      <th>flyAsh</th>\n",
       "      <th>water</th>\n",
       "      <th>plasticizer</th>\n",
       "      <th>coarse</th>\n",
       "      <th>fine</th>\n",
       "      <th>age</th>\n",
       "      <th>strength</th>\n",
       "    </tr>\n",
       "  </thead>\n",
       "  <tbody>\n",
       "    <tr>\n",
       "      <th>count</th>\n",
       "      <td>1030.000000</td>\n",
       "      <td>1030.000000</td>\n",
       "      <td>1030.000000</td>\n",
       "      <td>1030.000000</td>\n",
       "      <td>1030.000000</td>\n",
       "      <td>1030.000000</td>\n",
       "      <td>1030.000000</td>\n",
       "      <td>1030.000000</td>\n",
       "      <td>1030.000000</td>\n",
       "    </tr>\n",
       "    <tr>\n",
       "      <th>mean</th>\n",
       "      <td>281.165631</td>\n",
       "      <td>73.895485</td>\n",
       "      <td>54.187136</td>\n",
       "      <td>181.566359</td>\n",
       "      <td>6.203112</td>\n",
       "      <td>972.918592</td>\n",
       "      <td>773.578883</td>\n",
       "      <td>45.662136</td>\n",
       "      <td>35.817836</td>\n",
       "    </tr>\n",
       "    <tr>\n",
       "      <th>std</th>\n",
       "      <td>104.507142</td>\n",
       "      <td>86.279104</td>\n",
       "      <td>63.996469</td>\n",
       "      <td>21.355567</td>\n",
       "      <td>5.973492</td>\n",
       "      <td>77.753818</td>\n",
       "      <td>80.175427</td>\n",
       "      <td>63.169912</td>\n",
       "      <td>16.705679</td>\n",
       "    </tr>\n",
       "    <tr>\n",
       "      <th>min</th>\n",
       "      <td>102.000000</td>\n",
       "      <td>0.000000</td>\n",
       "      <td>0.000000</td>\n",
       "      <td>121.750000</td>\n",
       "      <td>0.000000</td>\n",
       "      <td>801.000000</td>\n",
       "      <td>594.000000</td>\n",
       "      <td>1.000000</td>\n",
       "      <td>2.331808</td>\n",
       "    </tr>\n",
       "    <tr>\n",
       "      <th>25%</th>\n",
       "      <td>192.375000</td>\n",
       "      <td>0.000000</td>\n",
       "      <td>0.000000</td>\n",
       "      <td>164.900000</td>\n",
       "      <td>0.000000</td>\n",
       "      <td>932.000000</td>\n",
       "      <td>730.950000</td>\n",
       "      <td>7.000000</td>\n",
       "      <td>23.707115</td>\n",
       "    </tr>\n",
       "    <tr>\n",
       "      <th>50%</th>\n",
       "      <td>272.900000</td>\n",
       "      <td>22.000000</td>\n",
       "      <td>0.000000</td>\n",
       "      <td>185.000000</td>\n",
       "      <td>6.350000</td>\n",
       "      <td>968.000000</td>\n",
       "      <td>779.510000</td>\n",
       "      <td>28.000000</td>\n",
       "      <td>34.442774</td>\n",
       "    </tr>\n",
       "    <tr>\n",
       "      <th>75%</th>\n",
       "      <td>350.000000</td>\n",
       "      <td>142.950000</td>\n",
       "      <td>118.270000</td>\n",
       "      <td>192.000000</td>\n",
       "      <td>10.160000</td>\n",
       "      <td>1029.400000</td>\n",
       "      <td>824.000000</td>\n",
       "      <td>56.000000</td>\n",
       "      <td>46.136287</td>\n",
       "    </tr>\n",
       "    <tr>\n",
       "      <th>max</th>\n",
       "      <td>540.000000</td>\n",
       "      <td>359.400000</td>\n",
       "      <td>200.100000</td>\n",
       "      <td>247.000000</td>\n",
       "      <td>32.200000</td>\n",
       "      <td>1145.000000</td>\n",
       "      <td>992.600000</td>\n",
       "      <td>365.000000</td>\n",
       "      <td>82.599225</td>\n",
       "    </tr>\n",
       "  </tbody>\n",
       "</table>\n",
       "</div>"
      ],
      "text/plain": [
       "            cement         slag       flyAsh        water  plasticizer  \\\n",
       "count  1030.000000  1030.000000  1030.000000  1030.000000  1030.000000   \n",
       "mean    281.165631    73.895485    54.187136   181.566359     6.203112   \n",
       "std     104.507142    86.279104    63.996469    21.355567     5.973492   \n",
       "min     102.000000     0.000000     0.000000   121.750000     0.000000   \n",
       "25%     192.375000     0.000000     0.000000   164.900000     0.000000   \n",
       "50%     272.900000    22.000000     0.000000   185.000000     6.350000   \n",
       "75%     350.000000   142.950000   118.270000   192.000000    10.160000   \n",
       "max     540.000000   359.400000   200.100000   247.000000    32.200000   \n",
       "\n",
       "            coarse         fine          age     strength  \n",
       "count  1030.000000  1030.000000  1030.000000  1030.000000  \n",
       "mean    972.918592   773.578883    45.662136    35.817836  \n",
       "std      77.753818    80.175427    63.169912    16.705679  \n",
       "min     801.000000   594.000000     1.000000     2.331808  \n",
       "25%     932.000000   730.950000     7.000000    23.707115  \n",
       "50%     968.000000   779.510000    28.000000    34.442774  \n",
       "75%    1029.400000   824.000000    56.000000    46.136287  \n",
       "max    1145.000000   992.600000   365.000000    82.599225  "
      ]
     },
     "execution_count": 5,
     "metadata": {},
     "output_type": "execute_result"
    }
   ],
   "source": [
    "# Cell 4\n",
    "# supress warnings\n",
    "import warnings\n",
    "warnings.filterwarnings('ignore')\n",
    "warnings.simplefilter('ignore')\n",
    "#\n",
    "from IPython.display import display, HTML, Latex\n",
    "import pandas as pd\n",
    "import statsmodels.formula.api as sm\n",
    "display(HTML(\"<h2>Concrete Data set</h2>\"))\n",
    "df = pd.read_excel('Concrete_Data.xls')\n",
    "\n",
    "display(HTML(\"<h3>Descriptive Statistics</h3>\"))\n",
    "df.describe()\n"
   ]
  },
  {
   "cell_type": "code",
   "execution_count": 6,
   "metadata": {
    "slideshow": {
     "slide_type": "slide"
    }
   },
   "outputs": [
    {
     "data": {
      "text/html": [
       "<h3>Regression Analysis</h3>"
      ],
      "text/plain": [
       "<IPython.core.display.HTML object>"
      ]
     },
     "metadata": {},
     "output_type": "display_data"
    },
    {
     "name": "stdout",
     "output_type": "stream",
     "text": [
      "                            OLS Regression Results                            \n",
      "==============================================================================\n",
      "Dep. Variable:               strength   R-squared:                       0.615\n",
      "Model:                            OLS   Adj. R-squared:                  0.612\n",
      "Method:                 Least Squares   F-statistic:                     204.3\n",
      "Date:                Thu, 03 Oct 2024   Prob (F-statistic):          6.76e-206\n",
      "Time:                        17:27:42   Log-Likelihood:                -3869.0\n",
      "No. Observations:                1030   AIC:                             7756.\n",
      "Df Residuals:                    1021   BIC:                             7800.\n",
      "Df Model:                           8                                         \n",
      "Covariance Type:            nonrobust                                         \n",
      "===============================================================================\n",
      "                  coef    std err          t      P>|t|      [0.025      0.975]\n",
      "-------------------------------------------------------------------------------\n",
      "Intercept     -23.1638     26.588     -0.871      0.384     -75.338      29.010\n",
      "cement          0.1198      0.008     14.110      0.000       0.103       0.136\n",
      "slag            0.1038      0.010     10.245      0.000       0.084       0.124\n",
      "flyAsh          0.0879      0.013      6.988      0.000       0.063       0.113\n",
      "water          -0.1503      0.040     -3.741      0.000      -0.229      -0.071\n",
      "plasticizer     0.2907      0.093      3.110      0.002       0.107       0.474\n",
      "coarse          0.0180      0.009      1.919      0.055      -0.000       0.036\n",
      "fine            0.0202      0.011      1.883      0.060      -0.001       0.041\n",
      "age             0.1142      0.005     21.046      0.000       0.104       0.125\n",
      "==============================================================================\n",
      "Omnibus:                        5.379   Durbin-Watson:                   1.281\n",
      "Prob(Omnibus):                  0.068   Jarque-Bera (JB):                5.305\n",
      "Skew:                          -0.174   Prob(JB):                       0.0705\n",
      "Kurtosis:                       3.045   Cond. No.                     1.06e+05\n",
      "==============================================================================\n",
      "\n",
      "Notes:\n",
      "[1] Standard Errors assume that the covariance matrix of the errors is correctly specified.\n",
      "[2] The condition number is large, 1.06e+05. This might indicate that there are\n",
      "strong multicollinearity or other numerical problems.\n"
     ]
    }
   ],
   "source": [
    "# Cell 5\n",
    "# supress warnings\n",
    "import warnings\n",
    "warnings.filterwarnings('ignore')\n",
    "warnings.simplefilter('ignore')\n",
    "#\n",
    "from IPython.display import display, HTML, Latex\n",
    "display(HTML(\"<h3>Regression Analysis</h3>\"))\n",
    "# clean up data frame\n",
    "df.dropna() # drop missing values\n",
    "df=df[['strength','cement','slag','flyAsh','water','plasticizer','coarse','fine','age']].dropna() # reordered dataframe with y first\n",
    "#print(df.head())\n",
    "model1 = sm.ols(formula='strength~cement+slag+flyAsh+water+plasticizer+coarse+fine+age',data=df)\n",
    "fitted1 = model1.fit()\n",
    "print(fitted1.summary())"
   ]
  },
  {
   "cell_type": "code",
   "execution_count": 7,
   "metadata": {
    "slideshow": {
     "slide_type": "slide"
    }
   },
   "outputs": [
    {
     "data": {
      "text/html": [
       "<h3>Anova Table</h3>"
      ],
      "text/plain": [
       "<IPython.core.display.HTML object>"
      ]
     },
     "metadata": {},
     "output_type": "display_data"
    },
    {
     "name": "stdout",
     "output_type": "stream",
     "text": [
      "       Source      df  Sum of Squares   Mean Square F Statistic p value\n",
      "0  Regression     8.0   110428.156817  22093.108958  204.269137     0.0\n",
      "1       Error  1021.0   176744.871661    108.156863                    \n",
      "2       Total  1029.0   287173.028478    279.079717                    \n"
     ]
    }
   ],
   "source": [
    "# Cell 6\n",
    "import pandas as pd\n",
    "from IPython.display import display, HTML, Latex\n",
    "display(HTML(\"<h3>Anova Table</h3>\"))\n",
    "\n",
    "def prepANOVAtable(model):\n",
    "    tmp={'Source':['Regression','Error','Total'],'df': [model.df_model,model.df_resid,model.df_model+model.df_resid],'Sum of Squares':[model.ssr,model.ess,model.ssr+model.ess],'Mean Square':[model.mse_model,model.mse_resid,model.mse_total],'F Statistic':[model.fvalue,'',''],'p value':[model.f_pvalue,'','']}\n",
    "    anova_df=pd.DataFrame(data=tmp)\n",
    "    anova_df=anova_df[['Source','df','Sum of Squares','Mean Square','F Statistic','p value']]\n",
    "    return(anova_df)\n",
    "anova1_df=prepANOVAtable(fitted1)\n",
    "print(anova1_df)\n"
   ]
  },
  {
   "cell_type": "code",
   "execution_count": 8,
   "metadata": {
    "slideshow": {
     "slide_type": "slide"
    }
   },
   "outputs": [
    {
     "data": {
      "text/html": [
       "<h2>Variance Inflation Factors</h2>"
      ],
      "text/plain": [
       "<IPython.core.display.HTML object>"
      ]
     },
     "metadata": {},
     "output_type": "display_data"
    },
    {
     "data": {
      "text/html": [
       "<div>\n",
       "<style scoped>\n",
       "    .dataframe tbody tr th:only-of-type {\n",
       "        vertical-align: middle;\n",
       "    }\n",
       "\n",
       "    .dataframe tbody tr th {\n",
       "        vertical-align: top;\n",
       "    }\n",
       "\n",
       "    .dataframe thead th {\n",
       "        text-align: right;\n",
       "    }\n",
       "</style>\n",
       "<table border=\"1\" class=\"dataframe\">\n",
       "  <thead>\n",
       "    <tr style=\"text-align: right;\">\n",
       "      <th></th>\n",
       "      <th>Variable</th>\n",
       "      <th>VIF Factor</th>\n",
       "    </tr>\n",
       "  </thead>\n",
       "  <tbody>\n",
       "    <tr>\n",
       "      <th>0</th>\n",
       "      <td>cement</td>\n",
       "      <td>15.468620</td>\n",
       "    </tr>\n",
       "    <tr>\n",
       "      <th>1</th>\n",
       "      <td>slag</td>\n",
       "      <td>3.330359</td>\n",
       "    </tr>\n",
       "    <tr>\n",
       "      <th>2</th>\n",
       "      <td>flyAsh</td>\n",
       "      <td>4.148893</td>\n",
       "    </tr>\n",
       "    <tr>\n",
       "      <th>3</th>\n",
       "      <td>water</td>\n",
       "      <td>82.150840</td>\n",
       "    </tr>\n",
       "    <tr>\n",
       "      <th>4</th>\n",
       "      <td>plasticizer</td>\n",
       "      <td>5.472391</td>\n",
       "    </tr>\n",
       "    <tr>\n",
       "      <th>5</th>\n",
       "      <td>coarse</td>\n",
       "      <td>84.959460</td>\n",
       "    </tr>\n",
       "    <tr>\n",
       "      <th>6</th>\n",
       "      <td>fine</td>\n",
       "      <td>72.795397</td>\n",
       "    </tr>\n",
       "    <tr>\n",
       "      <th>7</th>\n",
       "      <td>age</td>\n",
       "      <td>1.699430</td>\n",
       "    </tr>\n",
       "  </tbody>\n",
       "</table>\n",
       "</div>"
      ],
      "text/plain": [
       "      Variable  VIF Factor\n",
       "0       cement   15.468620\n",
       "1         slag    3.330359\n",
       "2       flyAsh    4.148893\n",
       "3        water   82.150840\n",
       "4  plasticizer    5.472391\n",
       "5       coarse   84.959460\n",
       "6         fine   72.795397\n",
       "7          age    1.699430"
      ]
     },
     "execution_count": 8,
     "metadata": {},
     "output_type": "execute_result"
    }
   ],
   "source": [
    "# Cell 7\n",
    "# supress warnings\n",
    "import warnings\n",
    "warnings.filterwarnings('ignore')\n",
    "warnings.simplefilter('ignore')\n",
    "#\n",
    "from statsmodels.stats.outliers_influence import variance_inflation_factor\n",
    "from IPython.display import display, HTML, Latex\n",
    "import pandas as pd\n",
    "display(HTML(\"<h2>Variance Inflation Factors</h2>\"))\n",
    "# drop missing values and create array of x variables\n",
    "df=df.dropna()\n",
    "exog1=df.drop('strength',axis=1)\n",
    "# calculate VIF and save in data frame\n",
    "vif1=pd.DataFrame()\n",
    "vif1[\"VIF Factor\"]=[variance_inflation_factor(exog1.values,i) for i in range(exog1.shape[1])]\n",
    "vif1[\"Variable\"]=exog1.columns\n",
    "vif1=vif1[[\"Variable\",\"VIF Factor\"]]\n",
    "vif1\n"
   ]
  },
  {
   "cell_type": "code",
   "execution_count": 9,
   "metadata": {
    "slideshow": {
     "slide_type": "slide"
    }
   },
   "outputs": [
    {
     "data": {
      "text/html": [
       "<h2>Partial F Test</h2>"
      ],
      "text/plain": [
       "<IPython.core.display.HTML object>"
      ]
     },
     "metadata": {},
     "output_type": "display_data"
    },
    {
     "data": {
      "text/html": [
       "<h3> Full Model</h3>"
      ],
      "text/plain": [
       "<IPython.core.display.HTML object>"
      ]
     },
     "metadata": {},
     "output_type": "display_data"
    },
    {
     "name": "stdout",
     "output_type": "stream",
     "text": [
      "       Source      df  Sum of Squares   Mean Square F Statistic p value\n",
      "0  Regression     8.0   110428.156817  22093.108958  204.269137     0.0\n",
      "1       Error  1021.0   176744.871661    108.156863                    \n",
      "2       Total  1029.0   287173.028478    279.079717                    \n"
     ]
    },
    {
     "data": {
      "text/html": [
       "<h3>Reduced Model</h3>"
      ],
      "text/plain": [
       "<IPython.core.display.HTML object>"
      ]
     },
     "metadata": {},
     "output_type": "display_data"
    },
    {
     "name": "stdout",
     "output_type": "stream",
     "text": [
      "       Source      df  Sum of Squares   Mean Square F Statistic p value\n",
      "0  Regression     6.0   110855.967752  29386.176788  271.181241     0.0\n",
      "1       Error  1023.0   176317.060726    108.363605                    \n",
      "2       Total  1029.0   287173.028478    279.079717                    \n"
     ]
    }
   ],
   "source": [
    "# Cell 8\n",
    "import statsmodels.formula.api as sm\n",
    "display(HTML(\"<h2>Partial F Test</h2>\"))\n",
    "display(HTML(\"<h3> Full Model</h3>\"))\n",
    "# full modelimport statsmodels.formula.api as sm\n",
    "\n",
    "print(anova1_df)\n",
    "# reduced model\n",
    "display(HTML(\"<h3>Reduced Model</h3>\"))\n",
    "model2 = sm.ols(formula='strength~cement+slag+flyAsh+water+plasticizer+age',data=df)\n",
    "fitted2 = model2.fit()\n",
    "anova2_df=prepANOVAtable(fitted2)\n",
    "print(anova2_df)"
   ]
  },
  {
   "cell_type": "code",
   "execution_count": 16,
   "metadata": {
    "slideshow": {
     "slide_type": "slide"
    }
   },
   "outputs": [
    {
     "data": {
      "text/html": [
       "<h2>Forward Variable Selection"
      ],
      "text/plain": [
       "<IPython.core.display.HTML object>"
      ]
     },
     "metadata": {},
     "output_type": "display_data"
    },
    {
     "data": {
      "text/html": [
       "<a href='https://planspace.org/20150423-forward_selection_with_statsmodels/'>Source</a>"
      ],
      "text/plain": [
       "<IPython.core.display.HTML object>"
      ]
     },
     "metadata": {},
     "output_type": "display_data"
    },
    {
     "name": "stdout",
     "output_type": "stream",
     "text": [
      "strength ~ cement + plasticizer + age + slag + water + flyAsh + 1\n",
      "0.6139750019712783\n",
      "0.6117109257365058\n"
     ]
    }
   ],
   "source": [
    "# Cell 9\n",
    "# supress warnings\n",
    "import warnings\n",
    "warnings.filterwarnings('ignore')\n",
    "warnings.simplefilter('ignore')\n",
    "#\n",
    "import statsmodels.formula.api as smf\n",
    "display(HTML(\"<h2>Forward Variable Selection\"))\n",
    "display(HTML(\"<a href='https://planspace.org/20150423-forward_selection_with_statsmodels/'>Source</a>\"))\n",
    "def forward_selection(data, response):\n",
    "    \"\"\"Linear model designed by forward selection.\n",
    "\n",
    "    Parameters:\n",
    "    -----------\n",
    "    data : pandas DataFrame with all possible predictors and response\n",
    "\n",
    "    response: string, name of response column in data\n",
    "\n",
    "    Returns:\n",
    "    --------\n",
    "    model: an \"optimal\" fitted statsmodels linear model\n",
    "           with an intercept\n",
    "           selected by forward selection\n",
    "           evaluated by adjusted R-squared\n",
    "    \"\"\"\n",
    "    remaining = set(data.columns)\n",
    "    remaining.remove(response)\n",
    "    selected = []\n",
    "    current_score, best_new_score = 0.0, 0.0\n",
    "    while remaining and current_score == best_new_score:\n",
    "        scores_with_candidates = []\n",
    "        for candidate in remaining:\n",
    "            formula = \"{} ~ {} + 1\".format(response,\n",
    "                                           ' + '.join(selected + [candidate]))\n",
    "            score = smf.ols(formula, data).fit().rsquared_adj\n",
    "            scores_with_candidates.append((score, candidate))\n",
    "        scores_with_candidates.sort()\n",
    "        best_new_score, best_candidate = scores_with_candidates.pop()\n",
    "        if current_score < best_new_score:\n",
    "            remaining.remove(best_candidate)\n",
    "            selected.append(best_candidate)\n",
    "            current_score = best_new_score\n",
    "    formula = \"{} ~ {} + 1\".format(response,\n",
    "                                   ' + '.join(selected))\n",
    "    model = smf.ols(formula, data).fit()\n",
    "    return model\n",
    "forward=forward_selection(df,'strength')\n",
    "print(forward.model.formula)\n",
    "print(forward.rsquared)\n",
    "print(forward.rsquared_adj)"
   ]
  },
  {
   "cell_type": "code",
   "execution_count": 11,
   "metadata": {},
   "outputs": [
    {
     "name": "stdout",
     "output_type": "stream",
     "text": [
      "Selected features: ['cement', 'slag', 'flyAsh', 'water', 'plasticizer', 'age']\n"
     ]
    }
   ],
   "source": [
    "# Cell 10 - Backwards elimination - code generated by ChatGPT\n",
    "import pandas as pd\n",
    "import statsmodels.api as sm\n",
    "#\n",
    "def backward_elimination(X, y, significance_level=0.05):\n",
    "    features = X.columns.tolist()\n",
    "    while len(features) > 0:\n",
    "        model = sm.OLS(y, sm.add_constant(X[features])).fit()\n",
    "        p_values = model.pvalues.iloc[1:]  # Ignore the intercept's p-value\n",
    "        max_p_value = p_values.max()\n",
    "        if max_p_value > significance_level:\n",
    "            excluded_feature = p_values.idxmax()\n",
    "            features.remove(excluded_feature)\n",
    "        else:\n",
    "            break\n",
    "    return features\n",
    "#\n",
    "X = pd.DataFrame(df, columns=['cement', 'slag', 'flyAsh', 'water', 'plasticizer','coarse','fine','age'])\n",
    "y = pd.Series(df['strength'])\n",
    "#print(X)\n",
    "#print(y)\n",
    "best_features = backward_elimination(X, y)\n",
    "print(\"Selected features:\", best_features)"
   ]
  },
  {
   "cell_type": "code",
   "execution_count": 12,
   "metadata": {
    "slideshow": {
     "slide_type": "slide"
    }
   },
   "outputs": [
    {
     "data": {
      "text/html": [
       "<h2>Step Variable Selection"
      ],
      "text/plain": [
       "<IPython.core.display.HTML object>"
      ]
     },
     "metadata": {},
     "output_type": "display_data"
    },
    {
     "data": {
      "text/html": [
       "<p>This code was generated by ChatGPT</p>"
      ],
      "text/plain": [
       "<IPython.core.display.HTML object>"
      ]
     },
     "metadata": {},
     "output_type": "display_data"
    },
    {
     "name": "stdout",
     "output_type": "stream",
     "text": [
      "Add  cement with p-value 1.32346e-65\n",
      "Add  plasticizer with p-value 7.96323e-35\n",
      "Add  age with p-value 4.88206e-52\n",
      "Add  slag with p-value 7.4935e-34\n",
      "Add  water with p-value 7.19522e-19\n",
      "Add  flyAsh with p-value 2.91332e-18\n",
      "Selected features: ['cement', 'plasticizer', 'age', 'slag', 'water', 'flyAsh']\n"
     ]
    }
   ],
   "source": [
    "# Cell 11\n",
    "import statsmodels.api as sm\n",
    "display(HTML(\"<h2>Step Variable Selection\"))\n",
    "display(HTML(\"<p>This code was generated by ChatGPT</p>\"))\n",
    "#\n",
    "X = pd.DataFrame(df, columns=['cement', 'slag', 'flyAsh', 'water', 'plasticizer','coarse','fine','age'])\n",
    "y = pd.Series(df['strength'])\n",
    "#\n",
    "def stepwise_selection(X, y, initial_list=[], threshold_in=0.05, threshold_out=0.05):\n",
    "    \"\"\" Perform a stepwise regression.\n",
    "    Args:\n",
    "        X - pandas DataFrame with candidate features\n",
    "        y - list-like with the dependent variable\n",
    "        initial_list - list of features to start with (default is empty)\n",
    "        threshold_in - include a feature if its p-value < threshold_in\n",
    "        threshold_out - exclude a feature if its p-value > threshold_out\n",
    "    Returns:\n",
    "        list of selected features\n",
    "    \"\"\"\n",
    "    included = list(initial_list)\n",
    "    while True:\n",
    "        changed = False\n",
    "        # Forward step\n",
    "        excluded = list(set(X.columns) - set(included))\n",
    "        new_pval = pd.Series(index=excluded)\n",
    "        for new_column in excluded:\n",
    "            model = sm.OLS(y, sm.add_constant(X[included + [new_column]])).fit()\n",
    "            new_pval[new_column] = model.pvalues[new_column]\n",
    "        best_pval = new_pval.min()\n",
    "        if best_pval < threshold_in:\n",
    "            best_feature = new_pval.idxmin()\n",
    "            included.append(best_feature)\n",
    "            changed = True\n",
    "            print(f'Add  {best_feature} with p-value {best_pval:.6}')\n",
    "\n",
    "        # Backward step\n",
    "        model = sm.OLS(y, sm.add_constant(X[included])).fit()\n",
    "        pvalues = model.pvalues.iloc[1:]  # all except intercept\n",
    "        worst_pval = pvalues.max()\n",
    "        if worst_pval > threshold_out:\n",
    "            worst_feature = pvalues.idxmax()\n",
    "            included.remove(worst_feature)\n",
    "            changed = True\n",
    "            print(f'Remove {worst_feature} with p-value {worst_pval:.6}')\n",
    "\n",
    "        if not changed:\n",
    "            break\n",
    "\n",
    "    return included\n",
    "#\n",
    "best_features = stepwise_selection(X, y)\n",
    "print(\"Selected features:\", best_features)"
   ]
  },
  {
   "cell_type": "code",
   "execution_count": 13,
   "metadata": {
    "slideshow": {
     "slide_type": "slide"
    }
   },
   "outputs": [
    {
     "data": {
      "text/html": [
       "<h2>Best Subsets"
      ],
      "text/plain": [
       "<IPython.core.display.HTML object>"
      ]
     },
     "metadata": {},
     "output_type": "display_data"
    },
    {
     "data": {
      "text/html": [
       "<p>This code was generated by ChatGPT</p>"
      ],
      "text/plain": [
       "<IPython.core.display.HTML object>"
      ]
     },
     "metadata": {},
     "output_type": "display_data"
    },
    {
     "name": "stdout",
     "output_type": "stream",
     "text": [
      "Best model based on adjusted R²: features       [cement, slag, flyAsh, water, plasticizer, coa...\n",
      "adjusted_r2                                             0.612452\n",
      "AIC                                                  7756.063911\n",
      "BIC                                                  7800.499738\n",
      "Name: 254, dtype: object\n",
      "Best model based on AIC: features       [cement, slag, flyAsh, water, plasticizer, age]\n",
      "adjusted_r2                                           0.611711\n",
      "AIC                                                7756.046536\n",
      "BIC                                                7790.607735\n",
      "Name: 220, dtype: object\n",
      "Best model based on BIC: features       [cement, slag, flyAsh, water, plasticizer, age]\n",
      "adjusted_r2                                           0.611711\n",
      "AIC                                                7756.046536\n",
      "BIC                                                7790.607735\n",
      "Name: 220, dtype: object\n"
     ]
    }
   ],
   "source": [
    "# Cell 12\n",
    "display(HTML(\"<h2>Best Subsets\"))\n",
    "display(HTML(\"<p>This code was generated by ChatGPT</p>\"))\n",
    "#\n",
    "import pandas as pd\n",
    "import statsmodels.api as sm\n",
    "import itertools\n",
    "#\n",
    "X = pd.DataFrame(df, columns=['cement', 'slag', 'flyAsh', 'water', 'plasticizer','coarse','fine','age'])\n",
    "y = pd.Series(df['strength'])\n",
    "#\n",
    "def best_subsets_selection(X, y):\n",
    "    \"\"\"Perform best subsets regression and return the best model based on AIC, BIC, and Adjusted R².\"\"\"\n",
    "    n = len(X)  # number of observations\n",
    "    all_features = X.columns.tolist()\n",
    "    \n",
    "    # Store results for each subset\n",
    "    results = []\n",
    "    \n",
    "    # Loop over all possible subsets of features\n",
    "    for k in range(1, len(all_features) + 1):\n",
    "        for combo in itertools.combinations(all_features, k):\n",
    "            combo = list(combo)\n",
    "            X_subset = sm.add_constant(X[combo])\n",
    "            model = sm.OLS(y, X_subset).fit()\n",
    "            \n",
    "            # Store the adjusted R², AIC, and BIC for each subset\n",
    "            results.append({\n",
    "                'features': combo,\n",
    "                'adjusted_r2': model.rsquared_adj,\n",
    "                'AIC': model.aic,\n",
    "                'BIC': model.bic\n",
    "            })\n",
    "    \n",
    "    # Convert results to a DataFrame\n",
    "    results_df = pd.DataFrame(results)\n",
    "    \n",
    "    # Get the models with the best adjusted R², AIC, and BIC\n",
    "    best_adj_r2_model = results_df.loc[results_df['adjusted_r2'].idxmax()]\n",
    "    best_aic_model = results_df.loc[results_df['AIC'].idxmin()]\n",
    "    best_bic_model = results_df.loc[results_df['BIC'].idxmin()]\n",
    "    \n",
    "    return best_adj_r2_model, best_aic_model, best_bic_model\n",
    "#\n",
    "best_adj_r2_model, best_aic_model, best_bic_model = best_subsets_selection(X, y)\n",
    "\n",
    "print(\"Best model based on adjusted R²:\", best_adj_r2_model)\n",
    "print(\"Best model based on AIC:\", best_aic_model)\n",
    "print(\"Best model based on BIC:\", best_bic_model)"
   ]
  },
  {
   "cell_type": "code",
   "execution_count": 14,
   "metadata": {},
   "outputs": [
    {
     "data": {
      "text/html": [
       "<h2>PCA Regression</h2>"
      ],
      "text/plain": [
       "<IPython.core.display.HTML object>"
      ]
     },
     "metadata": {},
     "output_type": "display_data"
    },
    {
     "data": {
      "text/html": [
       "<h3>Delayed until Week 7</h3>"
      ],
      "text/plain": [
       "<IPython.core.display.HTML object>"
      ]
     },
     "metadata": {},
     "output_type": "display_data"
    }
   ],
   "source": [
    "# Cell 12\n",
    "display(HTML(\"<h2>PCA Regression</h2>\"))\n",
    "display(HTML(\"<h3>Delayed until Week 7</h3>\"))\n",
    "\n",
    "#from sklearn import preprocessing\n",
    "#std_scaler=preprocessing.StandardScaler().fit(df.values)\n",
    "#concrete_scaled=std_scaler.transform(df)\n",
    "#concrete_scaled_df=pd.DataFrame(concrete_scaled,index=df.index,columns=df.columns)\n",
    "#concrete_scaled_df.describe()\n",
    "#\n",
    "# need to remove y\n",
    "#\n",
    "#from sklearn import decomposition\n",
    "#set up and execute PCA\n",
    "#pca=decomposition.PCA(n_components=8)\n",
    "#pca.fit(concrete_scaled_df)\n",
    "#display eigen values\n",
    "#display(HTML(\"<h2>Eigenvalues (sorted)</h2>\"))\n",
    "#print(pca.explained_variance_)\n",
    "#display explained variance ratio\n",
    "#display(HTML(\"<h2> Percent variability explained by each component\"))\n",
    "#print(pca.explained_variance_ratio_)\n",
    "#display cumulative sum of variability explained\n",
    "#display(HTML(\"<h2> Cumulative Percent variability explained by each component\"))\n",
    "#print(np.cumsum(pca.explained_variance_ratio_))\n",
    "#\n",
    "#import matplotlib.pyplot as plt\n",
    "#display(HTML(\"<h1>Scree Plot using Python</h1>\"))\n",
    "#plt.plot(np.arange(1,9,1),pca.explained_variance_,'-bo')\n",
    "#plt.show()"
   ]
  },
  {
   "cell_type": "code",
   "execution_count": null,
   "metadata": {},
   "outputs": [],
   "source": []
  }
 ],
 "metadata": {
  "celltoolbar": "Slideshow",
  "kernelspec": {
   "display_name": "Python 3 (ipykernel)",
   "language": "python",
   "name": "python3"
  },
  "language_info": {
   "codemirror_mode": {
    "name": "ipython",
    "version": 3
   },
   "file_extension": ".py",
   "mimetype": "text/x-python",
   "name": "python",
   "nbconvert_exporter": "python",
   "pygments_lexer": "ipython3",
   "version": "3.12.5"
  }
 },
 "nbformat": 4,
 "nbformat_minor": 4
}
