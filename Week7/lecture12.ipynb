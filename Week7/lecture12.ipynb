{
 "cells": [
  {
   "cell_type": "code",
   "execution_count": 1,
   "id": "a335b27e-6597-4162-84dd-cc6f5dcd662f",
   "metadata": {},
   "outputs": [
    {
     "name": "stdout",
     "output_type": "stream",
     "text": [
      "the root is 1.8293836047324588 with value 1.1478498151973326e-08, required 11 steps\n",
      "completed\n"
     ]
    }
   ],
   "source": [
    "import math\n",
    "def f(x):\n",
    "    return (math.exp(x)+2**(-x)+2*math.cos(x)-6)\n",
    "\n",
    "N=100\n",
    "tol=0.0005\n",
    "x0=6.0\n",
    "x1=5.0\n",
    "# step 1\n",
    "y0=f(x0)\n",
    "y1=f(x1)\n",
    "# counter is additional\n",
    "counter=0\n",
    "for j in range(N+1):\n",
    "    counter=counter+1\n",
    "    # step 3\n",
    "    x=x1-y1*((x1-x0)/(y1-y0))\n",
    "    if math.fabs(x-x1)<tol:\n",
    "        print(\"the root is {} with value {}, required {} steps\".format(x,f(x),counter))\n",
    "        break\n",
    "    # step 5\n",
    "    x0=x1\n",
    "    y0=y1\n",
    "    x1=x\n",
    "    y1=f(x1)\n",
    "print(\"completed\")\n"
   ]
  },
  {
   "cell_type": "code",
   "execution_count": null,
   "id": "521b555f-95e2-44ec-a1e2-37f4bfcde1f5",
   "metadata": {},
   "outputs": [],
   "source": []
  }
 ],
 "metadata": {
  "kernelspec": {
   "display_name": "Python 3 (ipykernel)",
   "language": "python",
   "name": "python3"
  },
  "language_info": {
   "codemirror_mode": {
    "name": "ipython",
    "version": 3
   },
   "file_extension": ".py",
   "mimetype": "text/x-python",
   "name": "python",
   "nbconvert_exporter": "python",
   "pygments_lexer": "ipython3",
   "version": "3.12.5"
  }
 },
 "nbformat": 4,
 "nbformat_minor": 5
}
