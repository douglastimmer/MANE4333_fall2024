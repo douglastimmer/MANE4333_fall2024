{
 "cells": [
  {
   "cell_type": "markdown",
   "metadata": {
    "slideshow": {
     "slide_type": "slide"
    }
   },
   "source": [
    "# MANE 4333\n",
    "## Week 4 Lecture\n",
    "\n",
    "## Chapters 7 and 8\n"
   ]
  },
  {
   "cell_type": "code",
   "execution_count": 2,
   "metadata": {
    "slideshow": {
     "slide_type": "subslide"
    }
   },
   "outputs": [
    {
     "ename": "TypeError",
     "evalue": "read_excel() got an unexpected keyword argument 'sheetname'",
     "output_type": "error",
     "traceback": [
      "\u001b[0;31m---------------------------------------------------------------------------\u001b[0m",
      "\u001b[0;31mTypeError\u001b[0m                                 Traceback (most recent call last)",
      "Cell \u001b[0;32mIn[2], line 3\u001b[0m\n\u001b[1;32m      1\u001b[0m \u001b[38;5;66;03m# Cell 2\u001b[39;00m\n\u001b[1;32m      2\u001b[0m \u001b[38;5;28;01mimport\u001b[39;00m \u001b[38;5;21;01mpandas\u001b[39;00m \u001b[38;5;28;01mas\u001b[39;00m \u001b[38;5;21;01mpd\u001b[39;00m\n\u001b[0;32m----> 3\u001b[0m df \u001b[38;5;241m=\u001b[39m \u001b[43mpd\u001b[49m\u001b[38;5;241;43m.\u001b[39;49m\u001b[43mread_excel\u001b[49m\u001b[43m(\u001b[49m\u001b[38;5;124;43m'\u001b[39;49m\u001b[38;5;124;43mConcrete_Data.xls\u001b[39;49m\u001b[38;5;124;43m'\u001b[39;49m\u001b[43m,\u001b[49m\u001b[43m \u001b[49m\u001b[43msheetname\u001b[49m\u001b[38;5;241;43m=\u001b[39;49m\u001b[38;5;124;43m\"\u001b[39;49m\u001b[38;5;124;43mSheet1\u001b[39;49m\u001b[38;5;124;43m\"\u001b[39;49m\u001b[43m)\u001b[49m\n\u001b[1;32m      4\u001b[0m df\u001b[38;5;241m.\u001b[39mdescribe()\n\u001b[1;32m      5\u001b[0m df\u001b[38;5;241m.\u001b[39mcorr()\n",
      "\u001b[0;31mTypeError\u001b[0m: read_excel() got an unexpected keyword argument 'sheetname'"
     ]
    }
   ],
   "source": [
    "# Cell 2\n",
    "import pandas as pd\n",
    "df = pd.read_excel('Concrete_Data.xls', sheetname=\"Sheet1\")\n",
    "df.describe()\n",
    "df.corr()"
   ]
  },
  {
   "cell_type": "code",
   "execution_count": null,
   "metadata": {
    "slideshow": {
     "slide_type": "subslide"
    }
   },
   "outputs": [],
   "source": [
    "# Cell 3\n",
    "from pandas.plotting import scatter_matrix\n",
    "import matplotlib.pyplot as plt\n",
    "scatter_matrix(df, diagonal='kde')\n",
    "plt.show()"
   ]
  },
  {
   "cell_type": "code",
   "execution_count": null,
   "metadata": {
    "slideshow": {
     "slide_type": "subslide"
    }
   },
   "outputs": [],
   "source": [
    "# Cell 4\n",
    "from IPython.display import display, Math, Latex, HTML\n",
    "import statsmodels.formula.api as sm\n",
    "display(HTML(\"<h1> Simple Linear Regression using Statmodels\"))\n",
    "#set up variables holding the x and y variables\n",
    "\n",
    "model1 = sm.ols(formula='strength~cement',data=df)\n",
    "fitted1 = model1.fit()\n",
    "print(fitted1.summary())"
   ]
  },
  {
   "cell_type": "code",
   "execution_count": null,
   "metadata": {
    "slideshow": {
     "slide_type": "slide"
    }
   },
   "outputs": [],
   "source": [
    "# Cell 5\n",
    "display(HTML(\"<h1> Plot Fitted Model\"))\n",
    "plt.plot(df[\"cement\"], df[\"strength\"], 'ro')\n",
    "plt.plot(df[\"cement\"], fitted1.fittedvalues, 'b')\n",
    "plt.legend(['Data', 'Fitted model'])\n",
    "#plt.ylim(0, 10)\n",
    "#plt.xlim(-2, 12)\n",
    "plt.xlabel('cement')\n",
    "plt.ylabel('strength')\n",
    "plt.title('Simple Linear Regression')\n",
    "plt.show()"
   ]
  },
  {
   "cell_type": "code",
   "execution_count": null,
   "metadata": {
    "slideshow": {
     "slide_type": "subslide"
    }
   },
   "outputs": [],
   "source": [
    "# Cell 6\n",
    "display(HTML(\"<h1> Residual Plot 1\"))\n",
    "residual=fitted1.resid\n",
    "plt.plot(df[\"cement\"], residual, 'ro')\n",
    "plt.xlabel('cement')\n",
    "plt.ylabel('residual')\n",
    "plt.title('Residuals versus cement')\n",
    "plt.show()"
   ]
  },
  {
   "cell_type": "code",
   "execution_count": null,
   "metadata": {
    "slideshow": {
     "slide_type": "subslide"
    }
   },
   "outputs": [],
   "source": [
    "# cell 7\n",
    "display(HTML(\"<h1> Residual Plot 2\"))\n",
    "residual2=fitted1.resid_pearson\n",
    "plt.plot(df[\"cement\"], residual2, 'ro')\n",
    "plt.xlabel('cement')\n",
    "plt.ylabel('standardized residual')\n",
    "plt.title('Standardized Residuals versus cement')\n",
    "plt.show()"
   ]
  },
  {
   "cell_type": "code",
   "execution_count": null,
   "metadata": {
    "slideshow": {
     "slide_type": "subslide"
    }
   },
   "outputs": [],
   "source": [
    "# cell 8\n",
    "display(HTML(\"<h1> Residual Plot 3\"))\n",
    "fittedValues=fitted1.fittedvalues\n",
    "plt.plot(fittedValues, residual2, 'ro')\n",
    "plt.xlabel('fitted values')\n",
    "plt.ylabel('standardized residual')\n",
    "plt.title('Standardized Residuals versus fitted values')\n",
    "plt.show()"
   ]
  },
  {
   "cell_type": "code",
   "execution_count": null,
   "metadata": {
    "slideshow": {
     "slide_type": "subslide"
    }
   },
   "outputs": [],
   "source": [
    "# Cell 9\n",
    "import numpy as np\n",
    "\n",
    "id=np.arange(1,df[\"cement\"].size+1,1)\n",
    "plt.plot(id,residual2,'-bo')\n",
    "plt.show()"
   ]
  },
  {
   "cell_type": "code",
   "execution_count": null,
   "metadata": {},
   "outputs": [],
   "source": [
    "# Cell 10\n",
    "from scipy import stats\n",
    "# normal probability plot\n",
    "stats.probplot(residual, plot=plt)\n",
    "plt.title('Normal Probability Plot')\n",
    "plt.show()"
   ]
  },
  {
   "cell_type": "code",
   "execution_count": null,
   "metadata": {},
   "outputs": [],
   "source": [
    "# Cell 11\n",
    "from statsmodels.stats.outliers_influence import OLSInfluence\n",
    "test_class = OLSInfluence(fitted1)\n",
    "plt.stem(np.arange(len(test_class.hat_matrix_diag)),test_class.hat_matrix_diag)\n",
    "plt.show()"
   ]
  },
  {
   "cell_type": "code",
   "execution_count": null,
   "metadata": {},
   "outputs": [],
   "source": [
    "# Cell 12\n",
    "plt.stem(np.arange(len(test_class.cooks_distance[0])),test_class.cooks_distance[0])\n",
    "plt.show()"
   ]
  },
  {
   "cell_type": "code",
   "execution_count": null,
   "metadata": {},
   "outputs": [],
   "source": [
    "# Cell 13\n",
    "print(test_class.dffits[1])\n",
    "len(test_class.dffits[0])\n",
    "plt.plot(np.arange(len(test_class.dffits[0])),test_class.dffits[0])\n",
    "plt.show()"
   ]
  },
  {
   "cell_type": "code",
   "execution_count": null,
   "metadata": {},
   "outputs": [],
   "source": [
    "# Cell 14\n",
    "betas=np.array(test_class.dfbetas)\n",
    "betas[:,0]\n",
    "plt.plot(np.arange(len(betas[:,0])),betas[:,0])\n",
    "plt.show()"
   ]
  },
  {
   "cell_type": "code",
   "execution_count": null,
   "metadata": {},
   "outputs": [],
   "source": [
    "# cell 15\n",
    "betas=np.array(test_class.dfbetas)\n",
    "betas[:,1]\n",
    "plt.plot(np.arange(len(betas[:,1])),betas[:,1])\n",
    "plt.show()"
   ]
  }
 ],
 "metadata": {
  "celltoolbar": "Slideshow",
  "kernelspec": {
   "display_name": "Python 3 (ipykernel)",
   "language": "python",
   "name": "python3"
  },
  "language_info": {
   "codemirror_mode": {
    "name": "ipython",
    "version": 3
   },
   "file_extension": ".py",
   "mimetype": "text/x-python",
   "name": "python",
   "nbconvert_exporter": "python",
   "pygments_lexer": "ipython3",
   "version": "3.12.4"
  }
 },
 "nbformat": 4,
 "nbformat_minor": 4
}
