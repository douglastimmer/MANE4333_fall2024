{
 "cells": [
  {
   "cell_type": "markdown",
   "id": "c4fc6962-3346-4c2d-bf42-02f09d858343",
   "metadata": {},
   "source": [
    "# MANE 4333\n",
    "## Homework 5\n",
    "### Your Name"
   ]
  },
  {
   "cell_type": "code",
   "execution_count": 1,
   "id": "b861e3cc-658d-4ebd-9fac-4f0ddfbd004b",
   "metadata": {},
   "outputs": [],
   "source": [
    "# Cell 2\n",
    "# Load the data and prepare a scatter matrix"
   ]
  },
  {
   "cell_type": "markdown",
   "id": "7c0de55f-2866-48d7-96eb-da379c2630d3",
   "metadata": {},
   "source": [
    "### Cell 3\n",
    "\n",
    "*Interpret the scatter matrix produced in cell 2. Are there any outliers? Do any variables appear to be associated with PE? If there is an association, is it positive or negative and ist it linear or non-linear?*"
   ]
  },
  {
   "cell_type": "code",
   "execution_count": 2,
   "id": "18486f00-8ba4-477c-a5ae-6f654e5a5c15",
   "metadata": {},
   "outputs": [],
   "source": [
    "# Cell 4\n",
    "# Enter the Python code to scale the data. Assign  70% of the data to training and 30% of the data to test. Create data frames for the training and testing sets"
   ]
  },
  {
   "cell_type": "code",
   "execution_count": 3,
   "id": "0740627d-b186-4d6d-9cb2-e57b74f1ee4a",
   "metadata": {},
   "outputs": [],
   "source": [
    "# Cell 5\n",
    "# Enter the Python code to specify a neural network model that is appropriate for the data and fit the model."
   ]
  },
  {
   "cell_type": "code",
   "execution_count": 4,
   "id": "cdd6b4bf-3e58-46fc-ac33-3839918ab4e3",
   "metadata": {},
   "outputs": [],
   "source": [
    "# Cell 6\n",
    "# Enter the Python code to evaluate the fitted neural network on both the training and testing datasets."
   ]
  },
  {
   "cell_type": "markdown",
   "id": "212da6f2-a211-4554-83d8-356062f572bb",
   "metadata": {},
   "source": [
    "### Cell 7\n",
    "\n",
    "*Comment on the results of fitting the neural network model. Does the fitted model work well for both the training and testing sets? Are there any signs of overfitting?*"
   ]
  }
 ],
 "metadata": {
  "kernelspec": {
   "display_name": "Python 3 (ipykernel)",
   "language": "python",
   "name": "python3"
  },
  "language_info": {
   "codemirror_mode": {
    "name": "ipython",
    "version": 3
   },
   "file_extension": ".py",
   "mimetype": "text/x-python",
   "name": "python",
   "nbconvert_exporter": "python",
   "pygments_lexer": "ipython3",
   "version": "3.12.4"
  }
 },
 "nbformat": 4,
 "nbformat_minor": 5
}
