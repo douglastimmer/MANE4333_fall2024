{
 "cells": [
  {
   "cell_type": "code",
   "execution_count": 1,
   "id": "805e5df4-0d03-49ec-a2b2-68e05dd23aae",
   "metadata": {},
   "outputs": [
    {
     "name": "stdout",
     "output_type": "stream",
     "text": [
      "the area using 2-point gaussian quadrature is 0.6753946992919996\n",
      "the area using 5-point gaussain quadrature is 0.6826897353882186\n"
     ]
    }
   ],
   "source": [
    "# Part 1, original formula in range (-1,1)\n",
    "#\n",
    "import math\n",
    "import numpy as np\n",
    "def f(z):\n",
    "    return (math.exp(-0.5*z**2)/((2.0*math.pi)**0.5))\n",
    "#\n",
    "# 2 point Gaussian Quadrature\n",
    "x2=[-0.577350269189626,0.577350269189626]\n",
    "w2=[1.0,1.0]\n",
    "#\n",
    "i2=0.0\n",
    "for i in range(0,len(x2)):\n",
    "    i2=i2+w2[i]*f(x2[i])\n",
    "print(\"the area using 2-point gaussian quadrature is {}\".format(i2))\n",
    "#\n",
    "# 5 point Gaussian Quadrature\n",
    "x5=[0.0, -0.538469310105683,0.538469310105683,-0.906179845938664,0.906179845938664]\n",
    "w5=[0.568888888888889,0.478628670499366,0.478628670499366,0.236926885056189,0.236926885056189]\n",
    "i5=0.0\n",
    "for i in range(0,len(x5)):\n",
    "    i5=i5+w5[i]*f(x5[i])\n",
    "print(\"the area using 5-point gaussain quadrature is {}\".format(i5))\n"
   ]
  },
  {
   "cell_type": "code",
   "execution_count": 2,
   "id": "cef50a55-dba5-4289-a6fd-4da69b328c4f",
   "metadata": {},
   "outputs": [
    {
     "name": "stdout",
     "output_type": "stream",
     "text": [
      "Gaussian Quadrature, arbitrary interval\n",
      "the area using 2-point gaussian quadrature is 0.5711282637787564\n",
      "the area using 5-point gaussian quadrature is 0.5004474475195477\n"
     ]
    }
   ],
   "source": [
    "# Part 2\n",
    "#\n",
    "print(\"Gaussian Quadrature, arbitrary interval\")\n",
    "a=-5.0\n",
    "b=0.0\n",
    "#\n",
    "# redo 2 point gaussian\n",
    "i2=0.0\n",
    "for i in range(0,len(x2)):\n",
    "    y=((b-a)/2.0)*x2[i]+(b+a)/2.0\n",
    "    i2=i2+w2[i]*f(y)\n",
    "i2=((b-a)/2.0)*i2\n",
    "print(\"the area using 2-point gaussian quadrature is {}\".format(i2))\n",
    "#\n",
    "# redoc 5 point gaussian\n",
    "i5=0.0\n",
    "for i in range(0,len(x5)):\n",
    "    y=((b-a)/2.0)*x5[i]+(b+a)/2.0\n",
    "    i5=i5+w5[i]*f(y)\n",
    "i5=((b-a)/2.0)*i5\n",
    "print(\"the area using 5-point gaussian quadrature is {}\".format(i5))\n"
   ]
  },
  {
   "cell_type": "code",
   "execution_count": 4,
   "id": "f699b466-d8b3-418e-aea0-d611b2ce3f34",
   "metadata": {},
   "outputs": [
    {
     "name": "stdout",
     "output_type": "stream",
     "text": [
      "Approximate integral: 0.5004474475195482\n"
     ]
    }
   ],
   "source": [
    "import numpy as np\n",
    "from scipy.special import roots_legendre\n",
    "\n",
    "def f(z):\n",
    "    return (math.exp(-0.5*z**2)/((2.0*math.pi)**0.5))\n",
    "    \n",
    "def gaussian_quadrature(func, a, b, n):\n",
    "    \"\"\"\n",
    "    Perform Gaussian quadrature to approximate the integral of a function `func`\n",
    "    over the interval [a, b].\n",
    "\n",
    "    Parameters:\n",
    "    - func: The function to integrate.\n",
    "    - a: The lower bound of the integral.\n",
    "    - b: The upper bound of the integral.\n",
    "    - n: The number of quadrature points (degree of the quadrature rule).\n",
    "\n",
    "    Returns:\n",
    "    - The approximate value of the integral.\n",
    "    \"\"\"\n",
    "    # Get the Gauss-Legendre nodes and weights on the interval [-1, 1]\n",
    "    x, w = roots_legendre(n)\n",
    "\n",
    "    # Change of interval from [-1, 1] to [a, b]\n",
    "    t = 0.5 * (x * (b - a) + (b + a))\n",
    "    integral = 0.5 * (b - a) * np.sum(w * func(t))\n",
    "\n",
    "    return integral\n",
    "\n",
    "# Example usage\n",
    "\n",
    "# Compute the integral of f(x) from 0 to 1 using 3 quadrature points\n",
    "\n",
    "# try vectorizing f(x)\n",
    "vec_f=np.vectorize(f)\n",
    "\n",
    "result = gaussian_quadrature(vec_f, -5, 0, 5)\n",
    "\n",
    "print(\"Approximate integral:\", result)\n"
   ]
  },
  {
   "cell_type": "code",
   "execution_count": null,
   "id": "59e4a090-0935-4c9c-be9d-4a906da8b346",
   "metadata": {},
   "outputs": [],
   "source": []
  }
 ],
 "metadata": {
  "kernelspec": {
   "display_name": "Python 3 (ipykernel)",
   "language": "python",
   "name": "python3"
  },
  "language_info": {
   "codemirror_mode": {
    "name": "ipython",
    "version": 3
   },
   "file_extension": ".py",
   "mimetype": "text/x-python",
   "name": "python",
   "nbconvert_exporter": "python",
   "pygments_lexer": "ipython3",
   "version": "3.12.5"
  }
 },
 "nbformat": 4,
 "nbformat_minor": 5
}
